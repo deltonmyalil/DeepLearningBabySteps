{
 "cells": [
  {
   "cell_type": "markdown",
   "metadata": {},
   "source": [
    "# Facial Expression Recognition\n",
    "Data taken from<br>\n",
    "https://www.kaggle.com/c/challenges-in-representation-learning-facial-expression-recognition-challenge/data"
   ]
  },
  {
   "cell_type": "markdown",
   "metadata": {},
   "source": [
    "The data consists of 48x48 pixel grayscale images of faces. The faces have been automatically registered so that the face is more or less centered and occupies about the same amount of space in each image. The task is to categorize each face based on the emotion shown in the facial expression in to one of seven categories (0=Angry, 1=Disgust, 2=Fear, 3=Happy, 4=Sad, 5=Surprise, 6=Neutral).\n",
    "\n",
    "train.csv contains two columns, \"emotion\" and \"pixels\". The \"emotion\" column contains a numeric code ranging from 0 to 6, inclusive, for the emotion that is present in the image. The \"pixels\" column contains a string surrounded in quotes for each image. The contents of this string a space-separated pixel values in row major order. test.csv contains only the \"pixels\" column and your task is to predict the emotion column."
   ]
  },
  {
   "cell_type": "markdown",
   "metadata": {},
   "source": [
    "## Personal Notes"
   ]
  },
  {
   "cell_type": "markdown",
   "metadata": {},
   "source": [
    "### Data"
   ]
  },
  {
   "cell_type": "markdown",
   "metadata": {},
   "source": [
    "48 x 48 grayscale images\n",
    "\n",
    "3 column csv file"
   ]
  },
  {
   "cell_type": "markdown",
   "metadata": {},
   "source": [
    "### Flat Vector"
   ]
  },
  {
   "cell_type": "markdown",
   "metadata": {},
   "source": [
    "The data is the pixel in row major order in string form\n",
    "\n",
    "Convert this into a flat vector\n",
    "\n",
    "This will ignore the pixel to pixel spatial relationship\n",
    "\n",
    "Each pixel is treated equally and independently with respect to the others\n",
    "\n",
    "When I learn convolutional NN, I will work with original shape"
   ]
  },
  {
   "cell_type": "markdown",
   "metadata": {},
   "source": [
    "### Normalizing the data"
   ]
  },
  {
   "cell_type": "markdown",
   "metadata": {},
   "source": [
    "Images have pixel intensities 0 to 255 (for 8 bit)\n",
    "\n",
    "We normalize them to [0, 1]\n",
    "\n",
    "We just divide by the maximum as they are strictly positive\n",
    "\n",
    "We want them in [0, 1] because tanh and sigmoid is having steepest slope between -1 and 1"
   ]
  },
  {
   "cell_type": "markdown",
   "metadata": {},
   "source": [
    "## Sensitivity and Specificity"
   ]
  },
  {
   "cell_type": "markdown",
   "metadata": {},
   "source": [
    "Sensitivity is the True Positive Rate\n",
    "\n",
    "TPR = TP/(TP + FN)\n",
    "\n",
    "That is, out of all the cases where it is true in reality, how many are detected\n",
    "\n",
    "\n",
    "Specificity is the True Negative Rate\n",
    "\n",
    "TNR = TN/(TN + FP)\n",
    "\n",
    "That is, out of all the negative cases in reality, how many are actually detected as negative"
   ]
  },
  {
   "cell_type": "markdown",
   "metadata": {},
   "source": [
    "## Precision and Recall"
   ]
  },
  {
   "cell_type": "markdown",
   "metadata": {},
   "source": [
    "Precision: Are the positives I found really positive?\n",
    "\n",
    "precision = TP/(TP+FP)\n",
    "\n",
    "ie. Out of all the things predicted as positive, how many are actually positive\n",
    "\n",
    "Recall: The power to find positives\n",
    "\n",
    "recall = TP/(TP+FN)\n",
    "\n",
    "ie. Out of all the actual popsitives, how many is our model finding?\n",
    "\n",
    "Recall is the same as sensitivity"
   ]
  },
  {
   "cell_type": "markdown",
   "metadata": {},
   "source": [
    "## F1 Score"
   ]
  },
  {
   "cell_type": "markdown",
   "metadata": {},
   "source": [
    "Harmonic mean of precision and recall\n",
    "\n",
    "f1 = 2*p*r/(p + r)"
   ]
  }
 ],
 "metadata": {
  "kernelspec": {
   "display_name": "Python 3",
   "language": "python",
   "name": "python3"
  },
  "language_info": {
   "codemirror_mode": {
    "name": "ipython",
    "version": 3
   },
   "file_extension": ".py",
   "mimetype": "text/x-python",
   "name": "python",
   "nbconvert_exporter": "python",
   "pygments_lexer": "ipython3",
   "version": "3.7.1"
  }
 },
 "nbformat": 4,
 "nbformat_minor": 2
}
